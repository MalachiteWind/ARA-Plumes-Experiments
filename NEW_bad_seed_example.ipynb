{
 "cells": [
  {
   "cell_type": "code",
   "execution_count": 7,
   "metadata": {},
   "outputs": [],
   "source": [
    "import sindy_pipeline\n",
    "import pickle\n",
    "import numpy as np"
   ]
  },
  {
   "cell_type": "markdown",
   "metadata": {},
   "source": [
    "# Seed Summary\n",
    "\n",
    "`video_low_1`\n",
    "\n",
    "Good seeds\n",
    "- 12\n",
    "  - ensem_time_points = 100\n",
    "  - crashes with ensem_time_poitns = None\n",
    "\n",
    "Not Great seeds\n",
    "- 31415\n",
    "\n",
    "Seeds that Crash\n",
    "- 1234\n",
    "- 123\n",
    "- 12\n",
    "  - crashes when ensem_time_pints = None\n",
    "\n",
    "`video_low_2`\n",
    "\n",
    "Seeds that Crash\n",
    "- 1"
   ]
  },
  {
   "cell_type": "code",
   "execution_count": 8,
   "metadata": {},
   "outputs": [],
   "source": [
    "# Load data \n",
    "pickle_path = \"plume_videos/July_20/video_low_1/gauss_blur_coeff.pkl\"\n",
    "\n",
    "with open(pickle_path, 'rb') as f:\n",
    "    loaded_arrays = pickle.load(f)\n",
    "\n",
    "# Params\n",
    "time_series = loaded_arrays[\"mean\"]\n",
    "window_length = 4\n",
    "ensem_thresh = 0.12\n",
    "ensem_alpha=1e-3\n",
    "ensem_max_iter=100\n",
    "poly_degree=3\n",
    "ensem_num_models=40\n",
    "# ensem_time_points = None\n",
    "ensem_time_points = 100\n",
    "# stabalizing_eps = 1e-3\n",
    "seed =12"
   ]
  },
  {
   "cell_type": "code",
   "execution_count": 9,
   "metadata": {},
   "outputs": [],
   "source": [
    "pickle_path = \"plume_videos/July_20/video_low_2/gauss_time_blur/gauss_blur_coeff.pkl\"\n",
    "\n",
    "with open(pickle_path, 'rb') as f:\n",
    "    loaded_arrays = pickle.load(f)\n",
    "\n",
    "# Params\n",
    "time_series = loaded_arrays[\"mean\"]\n",
    "window_length = 5\n",
    "ensem_thresh = 0.1\n",
    "ensem_alpha=1e-3\n",
    "ensem_max_iter=200\n",
    "poly_degree=2\n",
    "ensem_num_models=20\n",
    "ensem_time_points = int(len(time_series)*0.6)\n",
    "stabalizing_eps = 1e-5\n",
    "seed =1\n"
   ]
  },
  {
   "cell_type": "code",
   "execution_count": 10,
   "metadata": {},
   "outputs": [],
   "source": [
    "time_series.shape\n",
    "t = np.array([i for i in range(494)])"
   ]
  },
  {
   "cell_type": "code",
   "execution_count": 11,
   "metadata": {},
   "outputs": [
    {
     "name": "stdout",
     "output_type": "stream",
     "text": [
      "window_length: 5, thresh: 0.1, alpha: 0.001,  max iter: 200, stabalzing eps: 1e-05\n",
      "(a)' = -1.379 a + -2.139 b + -0.793 c + 0.609 a^2 + 0.616 a b + -0.543 b^2 + -0.814 b c + -0.246 c^2\n",
      "(b)' = 1.334 a + 2.058 b + 0.763 c + -0.559 a^2 + -0.544 a b + 0.533 b^2 + 0.765 b c + 0.231 c^2\n",
      "(c)' = -1.193 a + -1.827 b + -0.676 c + 0.023 a^2 + -0.473 a b + -0.773 b^2 + -0.290 b c\n",
      "y0: [ 0.70361549 -0.77091281  0.87890854]\n",
      "Solving SINDy system with eps = 1e-05...\n",
      " lsoda--  warning..internal t (=r1) and h (=r2) are\u0000\u0000\n",
      "       such that in the machine, t + h = t on the next step  \n",
      "       (h = step size). solver will continue anyway\u0000\u0000\n",
      "      in above,  r1 =  0.3212504443084D+02   r2 =  0.3147189575942D-14\n",
      " lsoda--  warning..internal t (=r1) and h (=r2) are\u0000\u0000\n",
      "       such that in the machine, t + h = t on the next step  \n",
      "       (h = step size). solver will continue anyway\u0000\u0000\n",
      "      in above,  r1 =  0.3212504443084D+02   r2 =  0.3147189575942D-14\n",
      " lsoda--  warning..internal t (=r1) and h (=r2) are\u0000\u0000\n",
      "       such that in the machine, t + h = t on the next step  \n",
      "       (h = step size). solver will continue anyway\u0000\u0000\n",
      "      in above,  r1 =  0.3212504443084D+02   r2 =  0.3147189575942D-14\n",
      " lsoda--  warning..internal t (=r1) and h (=r2) are\u0000\u0000\n",
      "       such that in the machine, t + h = t on the next step  \n",
      "       (h = step size). solver will continue anyway\u0000\u0000\n",
      "      in above,  r1 =  0.3212504443084D+02   r2 =  0.3147189575942D-14\n",
      " lsoda--  warning..internal t (=r1) and h (=r2) are\u0000\u0000\n",
      "       such that in the machine, t + h = t on the next step  \n",
      "       (h = step size). solver will continue anyway\u0000\u0000\n",
      "      in above,  r1 =  0.3212504443084D+02   r2 =  0.3147189575942D-14\n",
      " lsoda--  warning..internal t (=r1) and h (=r2) are\u0000\u0000\n",
      "       such that in the machine, t + h = t on the next step  \n",
      "       (h = step size). solver will continue anyway\u0000\u0000\n",
      "      in above,  r1 =  0.3212504443084D+02   r2 =  0.3147189575942D-14\n",
      " lsoda--  warning..internal t (=r1) and h (=r2) are\u0000\u0000\n",
      "       such that in the machine, t + h = t on the next step  \n",
      "       (h = step size). solver will continue anyway\u0000\u0000\n",
      "      in above,  r1 =  0.3212504443084D+02   r2 =  0.3147189575942D-14\n",
      " lsoda--  warning..internal t (=r1) and h (=r2) are\u0000\u0000\n",
      "       such that in the machine, t + h = t on the next step  \n",
      "       (h = step size). solver will continue anyway\u0000\u0000\n",
      "      in above,  r1 =  0.3212504443084D+02   r2 =  0.3147189575942D-14\n",
      " lsoda--  warning..internal t (=r1) and h (=r2) are\u0000\u0000\n",
      "       such that in the machine, t + h = t on the next step  \n",
      "       (h = step size). solver will continue anyway\u0000\u0000\n",
      "      in above,  r1 =  0.3212504443084D+02   r2 =  0.3147189575942D-14\n",
      " lsoda--  warning..internal t (=r1) and h (=r2) are\u0000\u0000\n",
      "       such that in the machine, t + h = t on the next step  \n",
      "       (h = step size). solver will continue anyway\u0000\u0000\n",
      "      in above,  r1 =  0.3212504443084D+02   r2 =  0.3147189575942D-14\n",
      " lsoda--  above warning has been issued i1 times.  \u0000\u0000\n",
      "       it will not be issued again for this problem\u0000\u0000\n",
      "      in above message,  i1 =        10\n"
     ]
    },
    {
     "name": "stderr",
     "output_type": "stream",
     "text": [
      "capi_return is NULL\n",
      "Call-back cb_f_in_lsoda__user__routines failed.\n",
      "Traceback (most recent call last):\n",
      "  File \"/Users/Malachite/opt/anaconda3/envs/ARA-plume/lib/python3.11/site-packages/scipy/integrate/_ivp/base.py\", line 154, in fun\n",
      "Fatal Python error: F2PySwapThreadLocalCallbackPtr: F2PySwapThreadLocalCallbackPtr: PyLong_AsVoidPtr failed\n",
      "Python runtime state: initialized\n",
      "    return self.fun_single(t, y)\n",
      "           ^^^^^^^^^^^^^^^^^^^^^\n",
      "  File \"/Users/Malachite/opt/anaconda3/envs/ARA-plume/lib/python3.11/site-packages/scipy/integrate/_ivp/base.py\", line 23, in fun_wrapped\n",
      "    return np.asarray(fun(t, y), dtype=dtype)\n",
      "                      ^^^^^^^^^\n",
      "  File \"/Users/Malachite/opt/anaconda3/envs/ARA-plume/lib/python3.11/site-packages/scipy/integrate/_ivp/ivp.py\", line 540, in fun\n",
      "    return fun(t, x, *args)\n",
      "           ^^^^^^^^^^^^^^^^\n",
      "  File \"/Users/Malachite/Documents/UW/ARA/ARA-Plumes-Experiments/sindy_pipeline.py\", line 188, in ode_sys\n",
      "    db = b_dot(a,b,c) - eps*(a**stabalizing_deg+b**stabalizing_deg+c**stabalizing_degree)\n",
      "         ^^^^^^^^^^^^\n",
      "  File \"/Users/Malachite/Documents/UW/ARA/ARA-Plumes-Experiments/sindy_pipeline.py\", line 168, in <lambda>\n",
      "    b_dot = lambda a,b,c: eval(funcs[1])\n",
      "                          ^^^^^^^^^^^^^^\n",
      "  File \"<string>\", line 0, in <module>\n",
      "KeyboardInterrupt\n"
     ]
    },
    {
     "ename": "",
     "evalue": "",
     "output_type": "error",
     "traceback": [
      "\u001b[1;31mThe Kernel crashed while executing code in the the current cell or a previous cell. Please review the code in the cell(s) to identify a possible cause of the failure. Click <a href='https://aka.ms/vscodeJupyterKernelCrash'>here</a> for more info. View Jupyter <a href='command:jupyter.viewOutput'>log</a> for further details."
     ]
    }
   ],
   "source": [
    "sindy_pipeline.run(\n",
    "    time_series=time_series,\n",
    "    window_length=window_length,\n",
    "    ensem_thresh=ensem_thresh,\n",
    "    ensem_alpha=ensem_alpha,\n",
    "    ensem_max_iter=ensem_max_iter,\n",
    "    ensem_num_models=ensem_num_models,\n",
    "    ensem_time_points=ensem_time_points,\n",
    "    poly_degree=poly_degree,\n",
    "    seed=seed\n",
    ")"
   ]
  },
  {
   "cell_type": "code",
   "execution_count": null,
   "metadata": {},
   "outputs": [],
   "source": []
  }
 ],
 "metadata": {
  "kernelspec": {
   "display_name": "ARA-plume",
   "language": "python",
   "name": "python3"
  },
  "language_info": {
   "codemirror_mode": {
    "name": "ipython",
    "version": 3
   },
   "file_extension": ".py",
   "mimetype": "text/x-python",
   "name": "python",
   "nbconvert_exporter": "python",
   "pygments_lexer": "ipython3",
   "version": "3.11.4"
  }
 },
 "nbformat": 4,
 "nbformat_minor": 2
}

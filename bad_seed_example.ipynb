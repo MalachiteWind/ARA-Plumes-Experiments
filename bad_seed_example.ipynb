{
 "cells": [
  {
   "cell_type": "code",
   "execution_count": 1,
   "metadata": {},
   "outputs": [],
   "source": [
    "import pickle\n",
    "from plumex import sindy_pipeline"
   ]
  },
  {
   "cell_type": "markdown",
   "metadata": {},
   "source": [
    "# Seed Summary\n",
    "Good seeds\n",
    "-12\n",
    "  - ensem_time_points = 100\n",
    "  - crashes with ensem_time_poitns = None\n",
    "\n",
    "Not Great seeds\n",
    "- 31415\n",
    "\n",
    "Seeds that Crash\n",
    "- 1234\n",
    "- 123\n",
    "- 12\n",
    "  - crashes when ensem_time_pints = None"
   ]
  },
  {
   "cell_type": "code",
   "execution_count": 2,
   "metadata": {},
   "outputs": [],
   "source": [
    "# Load data \n",
    "pickle_path = \"plume_videos/July_20/video_low_1/gauss_blur_coeff.pkl\"\n",
    "\n",
    "with open(pickle_path, 'rb') as f:\n",
    "    loaded_arrays = pickle.load(f)\n",
    "\n",
    "# Params\n",
    "time_series = loaded_arrays[\"mean\"]\n",
    "window_length = 4\n",
    "ensem_thresh = 0.12\n",
    "ensem_alpha=1e-3\n",
    "ensem_max_iter=100\n",
    "poly_degree=3\n",
    "ensem_num_models=40\n",
    "ensem_time_points = None # ensem_time_points = 100\n",
    "seed =1234"
   ]
  },
  {
   "cell_type": "code",
   "execution_count": 3,
   "metadata": {},
   "outputs": [],
   "source": [
    "pickle_path = \"plume_videos/July_20/video_low_2/gauss_time_blur/gauss_blur_coeff.pkl\"\n",
    "\n",
    "with open(pickle_path, 'rb') as f:\n",
    "    loaded_arrays = pickle.load(f)\n",
    "\n",
    "# Params\n",
    "time_series = loaded_arrays[\"mean\"]\n",
    "window_length = 5\n",
    "ensem_thresh = 0.1\n",
    "ensem_alpha=1e-3\n",
    "ensem_max_iter=200\n",
    "poly_degree=2\n",
    "ensem_num_models=20\n",
    "ensem_time_points = int(len(time_series)*0.6) # ensem_time_points = 100\n",
    "seed =1\n"
   ]
  },
  {
   "cell_type": "code",
   "execution_count": 4,
   "metadata": {},
   "outputs": [
    {
     "name": "stdout",
     "output_type": "stream",
     "text": [
      "window_length: 5, thresh: 0.1, alpha: 0.001,  max iter: 200, stabalzing eps: 1e-05\n",
      "(a)' = -1.321 a + -2.048 b + -0.753 c + 0.063 a^2 + -0.163 a b + -0.786 b^2 + -0.606 b c\n",
      "(b)' = 1.302 a + 1.998 b + 0.730 c + -0.128 a^2 + 0.672 b^2 + 0.326 b c\n",
      "(c)' = -1.203 a + -1.838 b + -0.675 c + 0.278 a^2 + -0.436 b^2 + -0.427 b c + -0.134 c^2\n",
      "Solving SINDy system with eps = 1e-05...\n",
      "Solving SINDy system...\n",
      " lsoda--  warning..internal t (=r1) and h (=r2) are\u0000\u0000\n",
      "       such that in the machine, t + h = t on the next step  \n",
      "       (h = step size). solver will continue anyway\u0000\u0000\n",
      "      in above,  r1 =  0.5631129886782D+01   r2 =  0.4287914847806D-15\n",
      " lsoda--  warning..internal t (=r1) and h (=r2) are\u0000\u0000\n",
      "       such that in the machine, t + h = t on the next step  \n",
      "       (h = step size). solver will continue anyway\u0000\u0000\n",
      "      in above,  r1 =  0.5631129886782D+01   r2 =  0.4287914847806D-15\n",
      " lsoda--  warning..internal t (=r1) and h (=r2) are\u0000\u0000\n",
      "       such that in the machine, t + h = t on the next step  \n",
      "       (h = step size). solver will continue anyway\u0000\u0000\n",
      "      in above,  r1 =  0.5631129886782D+01   r2 =  0.4287914847806D-15\n",
      " lsoda--  warning..internal t (=r1) and h (=r2) are\u0000\u0000\n",
      "       such that in the machine, t + h = t on the next step  \n",
      "       (h = step size). solver will continue anyway\u0000\u0000\n",
      "      in above,  r1 =  0.5631129886782D+01   r2 =  0.4287914847806D-15\n",
      " lsoda--  warning..internal t (=r1) and h (=r2) are\u0000\u0000\n",
      "       such that in the machine, t + h = t on the next step  \n",
      "       (h = step size). solver will continue anyway\u0000\u0000\n",
      "      in above,  r1 =  0.5631129886782D+01   r2 =  0.4287914847806D-15\n",
      " lsoda--  warning..internal t (=r1) and h (=r2) are\u0000\u0000\n",
      "       such that in the machine, t + h = t on the next step  \n",
      "       (h = step size). solver will continue anyway\u0000\u0000\n",
      "      in above,  r1 =  0.5631129886782D+01   r2 =  0.4287914847806D-15\n",
      " lsoda--  warning..internal t (=r1) and h (=r2) are\u0000\u0000\n",
      "       such that in the machine, t + h = t on the next step  \n",
      "       (h = step size). solver will continue anyway\u0000\u0000\n",
      "      in above,  r1 =  0.5631129886782D+01   r2 =  0.4287914847806D-15\n",
      " lsoda--  warning..internal t (=r1) and h (=r2) are\u0000\u0000\n",
      "       such that in the machine, t + h = t on the next step  \n",
      "       (h = step size). solver will continue anyway\u0000\u0000\n",
      "      in above,  r1 =  0.5631129886782D+01   r2 =  0.4287914847806D-15\n",
      " lsoda--  warning..internal t (=r1) and h (=r2) are\u0000\u0000\n",
      "       such that in the machine, t + h = t on the next step  \n",
      "       (h = step size). solver will continue anyway\u0000\u0000\n",
      "      in above,  r1 =  0.5631129886782D+01   r2 =  0.4287914847806D-15\n",
      " lsoda--  warning..internal t (=r1) and h (=r2) are\u0000\u0000\n",
      "       such that in the machine, t + h = t on the next step  \n",
      "       (h = step size). solver will continue anyway\u0000\u0000\n",
      "      in above,  r1 =  0.5631129886782D+01   r2 =  0.4287914847806D-15\n",
      " lsoda--  above warning has been issued i1 times.  \u0000\u0000\n",
      "       it will not be issued again for this problem\u0000\u0000\n",
      "      in above message,  i1 =        10\n"
     ]
    },
    {
     "name": "stderr",
     "output_type": "stream",
     "text": [
      "/Users/Malachite/opt/anaconda3/envs/ARA-plume/lib/python3.11/site-packages/pysindy/utils/axes.py:83: RuntimeWarning: overflow encountered in reduce\n",
      "  results = super().__array_ufunc__(ufunc, method, *args, **kwargs)\n",
      "Traceback (most recent call last):\n",
      "  File \"/Users/Malachite/opt/anaconda3/envs/ARA-plume/lib/python3.11/site-packages/scipy/integrate/_ivp/base.py\", line 154, in fun\n",
      "capi_return is NULL\n",
      "Call-back cb_f_in_lsoda__user__routines failed.\n",
      "Fatal Python error: F2PySwapThreadLocalCallbackPtr: F2PySwapThreadLocalCallbackPtr: PyLong_AsVoidPtr failed\n",
      "Python runtime state: initialized\n",
      "    return self.fun_single(t, y)\n",
      "           ^^^^^^^^^^^^^^^^^^^^^\n",
      "  File \"/Users/Malachite/opt/anaconda3/envs/ARA-plume/lib/python3.11/site-packages/scipy/integrate/_ivp/base.py\", line 23, in fun_wrapped\n",
      "    return np.asarray(fun(t, y), dtype=dtype)\n",
      "                      ^^^^^^^^^\n",
      "  File \"/Users/Malachite/opt/anaconda3/envs/ARA-plume/lib/python3.11/site-packages/pysindy/pysindy.py\", line 684, in rhs\n",
      "    return self.predict(x[np.newaxis, :])[0]\n",
      "           ^^^^^^^^^^^^^^^^^^^^^^^^^^^^^^\n",
      "  File \"/Users/Malachite/opt/anaconda3/envs/ARA-plume/lib/python3.11/site-packages/pysindy/pysindy.py\", line 316, in predict\n",
      "    result = [self.model.predict([xi]) for xi in x]\n",
      "             ^^^^^^^^^^^^^^^^^^^^^^^^^^^^^^^^^^^^^^\n",
      "  File \"/Users/Malachite/opt/anaconda3/envs/ARA-plume/lib/python3.11/site-packages/pysindy/pysindy.py\", line 316, in <listcomp>\n",
      "    result = [self.model.predict([xi]) for xi in x]\n",
      "              ^^^^^^^^^^^^^^^^^^^^^^^^\n",
      "  File \"/Users/Malachite/opt/anaconda3/envs/ARA-plume/lib/python3.11/site-packages/sklearn/pipeline.py\", line 508, in predict\n",
      "    return self.steps[-1][1].predict(Xt, **predict_params)\n",
      "           ^^^^^^^^^^^^^^^^^^^^^^^^^^^^^^^^^^^^^^^^^^^^^^^\n",
      "  File \"/Users/Malachite/opt/anaconda3/envs/ARA-plume/lib/python3.11/site-packages/sklearn/linear_model/_base.py\", line 386, in predict\n",
      "    return self._decision_function(X)\n",
      "           ^^^^^^^^^^^^^^^^^^^^^^^^^^\n",
      "  File \"/Users/Malachite/opt/anaconda3/envs/ARA-plume/lib/python3.11/site-packages/sklearn/linear_model/_base.py\", line 369, in _decision_function\n",
      "    X = self._validate_data(X, accept_sparse=[\"csr\", \"csc\", \"coo\"], reset=False)\n",
      "        ^^^^^^^^^^^^^^^^^^^^^^^^^^^^^^^^^^^^^^^^^^^^^^^^^^^^^^^^^^^^^^^^^^^^^^^^\n",
      "  File \"/Users/Malachite/opt/anaconda3/envs/ARA-plume/lib/python3.11/site-packages/sklearn/base.py\", line 604, in _validate_data\n",
      "    out = check_array(X, input_name=\"X\", **check_params)\n",
      "          ^^^^^^^^^^^^^^^^^^^^^^^^^^^^^^^^^^^^^^^^^^^^^^\n",
      "  File \"/Users/Malachite/opt/anaconda3/envs/ARA-plume/lib/python3.11/site-packages/sklearn/utils/validation.py\", line 959, in check_array\n",
      "    _assert_all_finite(\n",
      "  File \"/Users/Malachite/opt/anaconda3/envs/ARA-plume/lib/python3.11/site-packages/sklearn/utils/validation.py\", line 124, in _assert_all_finite\n",
      "    _assert_all_finite_element_wise(\n",
      "  File \"/Users/Malachite/opt/anaconda3/envs/ARA-plume/lib/python3.11/site-packages/sklearn/utils/validation.py\", line 173, in _assert_all_finite_element_wise\n",
      "    raise ValueError(msg_err)\n",
      "ValueError: Input X contains infinity or a value too large for dtype('float64').\n"
     ]
    },
    {
     "ename": "",
     "evalue": "",
     "output_type": "error",
     "traceback": [
      "\u001b[1;31mThe Kernel crashed while executing code in the the current cell or a previous cell. Please review the code in the cell(s) to identify a possible cause of the failure. Click <a href='https://aka.ms/vscodeJupyterKernelCrash'>here</a> for more info. View Jupyter <a href='command:jupyter.viewOutput'>log</a> for further details."
     ]
    }
   ],
   "source": [
    "sindy_pipeline.run(\n",
    "    time_series=time_series,\n",
    "    window_length=window_length,\n",
    "    ensem_thresh=ensem_thresh,\n",
    "    ensem_alpha=ensem_alpha,\n",
    "    ensem_max_iter=ensem_max_iter,\n",
    "    ensem_num_models=ensem_num_models,\n",
    "    ensem_time_points=ensem_time_points,\n",
    "    poly_degree=poly_degree,\n",
    "    seed=seed\n",
    ")"
   ]
  },
  {
   "cell_type": "code",
   "execution_count": null,
   "metadata": {},
   "outputs": [],
   "source": [
    "# %          dydt = [\n",
    "# %              -1.379*a - 2.139*b - (0.793)*c + 0.609*a^2 + 0.616*a*b - 0.543*b^2 - 0.814*b*c - 0.246*c^2-stab_eps*a^3;\n",
    "# %               1.334*a + 2.058*b + 0.763*c - 0.559*a^2 - 0.544*a*b + 0.533*b^2 + 0.765*b*c + 0.231*c^2-stab_eps*b^3;\n",
    "# %              -1.193*a - 1.827*b - 0.676*c + 0.023*a^2 - 0.473*a*b - 0.773*b^2 - 0.290*b*c-stab_eps*c^3;\n",
    "# %          ];\n",
    "\n",
    "# output before sindy got updated "
   ]
  },
  {
   "cell_type": "code",
   "execution_count": null,
   "metadata": {},
   "outputs": [],
   "source": []
  }
 ],
 "metadata": {
  "kernelspec": {
   "display_name": "ARA-plume",
   "language": "python",
   "name": "python3"
  },
  "language_info": {
   "codemirror_mode": {
    "name": "ipython",
    "version": 3
   },
   "file_extension": ".py",
   "mimetype": "text/x-python",
   "name": "python",
   "nbconvert_exporter": "python",
   "pygments_lexer": "ipython3",
   "version": "3.11.4"
  }
 },
 "nbformat": 4,
 "nbformat_minor": 2
}

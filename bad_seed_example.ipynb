{
 "cells": [
  {
   "cell_type": "code",
   "execution_count": 1,
   "metadata": {},
   "outputs": [],
   "source": [
    "import pickle\n",
    "from plumex import sindy_pipeline"
   ]
  },
  {
   "cell_type": "markdown",
   "metadata": {},
   "source": [
    "# Seed Summary\n",
    "Good seeds\n",
    "-12\n",
    "  - ensem_time_points = 100\n",
    "  - crashes with ensem_time_poitns = None\n",
    "\n",
    "Not Great seeds\n",
    "- 31415\n",
    "\n",
    "Seeds that Crash\n",
    "- 1234\n",
    "- 123\n",
    "- 12\n",
    "  - crashes when ensem_time_pints = None"
   ]
  },
  {
   "cell_type": "code",
   "execution_count": 2,
   "metadata": {},
   "outputs": [],
   "source": [
    "# Load data \n",
    "pickle_path = \"plume_videos/July_20/video_low_1/gauss_blur_coeff.pkl\"\n",
    "\n",
    "with open(pickle_path, 'rb') as f:\n",
    "    loaded_arrays = pickle.load(f)\n",
    "\n",
    "# Params\n",
    "time_series = loaded_arrays[\"mean\"]\n",
    "window_length = 4\n",
    "ensem_thresh = 0.12\n",
    "ensem_alpha=1e-3\n",
    "ensem_max_iter=100\n",
    "poly_degree=3\n",
    "ensem_num_models=40\n",
    "ensem_time_points = None # ensem_time_points = 100\n",
    "seed =1234"
   ]
  },
  {
   "cell_type": "code",
   "execution_count": 3,
   "metadata": {},
   "outputs": [],
   "source": [
    "pickle_path = \"plume_videos/July_20/video_low_2/gauss_time_blur/gauss_blur_coeff.pkl\"\n",
    "\n",
    "with open(pickle_path, 'rb') as f:\n",
    "    loaded_arrays = pickle.load(f)\n",
    "\n",
    "# Params\n",
    "time_series = loaded_arrays[\"mean\"]\n",
    "window_length = 5\n",
    "ensem_thresh = 0.1\n",
    "ensem_alpha=1e-3\n",
    "ensem_max_iter=200\n",
    "poly_degree=2\n",
    "ensem_num_models=20\n",
    "ensem_time_points = int(len(time_series)*0.6) # ensem_time_points = 100\n",
    "seed =1\n"
   ]
  },
  {
   "cell_type": "code",
   "execution_count": 4,
   "metadata": {},
   "outputs": [
    {
     "name": "stdout",
     "output_type": "stream",
     "text": [
      "window_length: 5, thresh: 0.1, alpha: 0.001,  max iter: 200, stabalzing eps: 1e-05\n",
      "(a)' = -1.321 a + -2.048 b + -0.753 c + 0.063 a^2 + -0.163 a b + -0.786 b^2 + -0.606 b c\n",
      "(b)' = 1.302 a + 1.998 b + 0.730 c + -0.128 a^2 + 0.672 b^2 + 0.326 b c\n",
      "(c)' = -1.203 a + -1.838 b + -0.675 c + 0.278 a^2 + -0.436 b^2 + -0.427 b c + -0.134 c^2\n",
      "Solving SINDy system with eps = 1e-05...\n"
     ]
    },
    {
     "ename": "KeyboardInterrupt",
     "evalue": "",
     "output_type": "error",
     "traceback": [
      "\u001b[0;31m---------------------------------------------------------------------------\u001b[0m",
      "\u001b[0;31mKeyboardInterrupt\u001b[0m                         Traceback (most recent call last)",
      "\u001b[1;32m/Users/Malachite/Documents/UW/ARA/ARA-Plumes-Experiments/bad_seed_example.ipynb Cell 5\u001b[0m line \u001b[0;36m1\n\u001b[0;32m----> <a href='vscode-notebook-cell:/Users/Malachite/Documents/UW/ARA/ARA-Plumes-Experiments/bad_seed_example.ipynb#W4sZmlsZQ%3D%3D?line=0'>1</a>\u001b[0m sindy_pipeline\u001b[39m.\u001b[39;49mrun(\n\u001b[1;32m      <a href='vscode-notebook-cell:/Users/Malachite/Documents/UW/ARA/ARA-Plumes-Experiments/bad_seed_example.ipynb#W4sZmlsZQ%3D%3D?line=1'>2</a>\u001b[0m     time_series\u001b[39m=\u001b[39;49mtime_series,\n\u001b[1;32m      <a href='vscode-notebook-cell:/Users/Malachite/Documents/UW/ARA/ARA-Plumes-Experiments/bad_seed_example.ipynb#W4sZmlsZQ%3D%3D?line=2'>3</a>\u001b[0m     window_length\u001b[39m=\u001b[39;49mwindow_length,\n\u001b[1;32m      <a href='vscode-notebook-cell:/Users/Malachite/Documents/UW/ARA/ARA-Plumes-Experiments/bad_seed_example.ipynb#W4sZmlsZQ%3D%3D?line=3'>4</a>\u001b[0m     ensem_thresh\u001b[39m=\u001b[39;49mensem_thresh,\n\u001b[1;32m      <a href='vscode-notebook-cell:/Users/Malachite/Documents/UW/ARA/ARA-Plumes-Experiments/bad_seed_example.ipynb#W4sZmlsZQ%3D%3D?line=4'>5</a>\u001b[0m     ensem_alpha\u001b[39m=\u001b[39;49mensem_alpha,\n\u001b[1;32m      <a href='vscode-notebook-cell:/Users/Malachite/Documents/UW/ARA/ARA-Plumes-Experiments/bad_seed_example.ipynb#W4sZmlsZQ%3D%3D?line=5'>6</a>\u001b[0m     ensem_max_iter\u001b[39m=\u001b[39;49mensem_max_iter,\n\u001b[1;32m      <a href='vscode-notebook-cell:/Users/Malachite/Documents/UW/ARA/ARA-Plumes-Experiments/bad_seed_example.ipynb#W4sZmlsZQ%3D%3D?line=6'>7</a>\u001b[0m     ensem_num_models\u001b[39m=\u001b[39;49mensem_num_models,\n\u001b[1;32m      <a href='vscode-notebook-cell:/Users/Malachite/Documents/UW/ARA/ARA-Plumes-Experiments/bad_seed_example.ipynb#W4sZmlsZQ%3D%3D?line=7'>8</a>\u001b[0m     ensem_time_points\u001b[39m=\u001b[39;49mensem_time_points,\n\u001b[1;32m      <a href='vscode-notebook-cell:/Users/Malachite/Documents/UW/ARA/ARA-Plumes-Experiments/bad_seed_example.ipynb#W4sZmlsZQ%3D%3D?line=8'>9</a>\u001b[0m     poly_degree\u001b[39m=\u001b[39;49mpoly_degree,\n\u001b[1;32m     <a href='vscode-notebook-cell:/Users/Malachite/Documents/UW/ARA/ARA-Plumes-Experiments/bad_seed_example.ipynb#W4sZmlsZQ%3D%3D?line=9'>10</a>\u001b[0m     seed\u001b[39m=\u001b[39;49mseed\n\u001b[1;32m     <a href='vscode-notebook-cell:/Users/Malachite/Documents/UW/ARA/ARA-Plumes-Experiments/bad_seed_example.ipynb#W4sZmlsZQ%3D%3D?line=10'>11</a>\u001b[0m )\n",
      "File \u001b[0;32m~/Documents/UW/ARA/ARA-Plumes-Experiments/plumex/sindy_pipeline.py:212\u001b[0m, in \u001b[0;36mrun\u001b[0;34m(seed, time_series, window_length, ensem_thresh, ensem_alpha, ensem_max_iter, ensem_num_models, ensem_time_points, normalize, poly_degree, stabalzing_eps)\u001b[0m\n\u001b[1;32m    210\u001b[0m error_occured \u001b[39m=\u001b[39m \u001b[39mFalse\u001b[39;00m\n\u001b[1;32m    211\u001b[0m \u001b[39mtry\u001b[39;00m:\n\u001b[0;32m--> 212\u001b[0m     X_solved \u001b[39m=\u001b[39m solve_ivp(\n\u001b[1;32m    213\u001b[0m         ode_sys,\n\u001b[1;32m    214\u001b[0m         t_span\u001b[39m=\u001b[39;49m(t_solve[\u001b[39m0\u001b[39;49m],t_solve[\u001b[39m-\u001b[39;49m\u001b[39m1\u001b[39;49m]),\n\u001b[1;32m    215\u001b[0m         y0\u001b[39m=\u001b[39;49my0, \n\u001b[1;32m    216\u001b[0m         t_eval\u001b[39m=\u001b[39;49mt_solve,\n\u001b[1;32m    217\u001b[0m         args\u001b[39m=\u001b[39;49mparams,\n\u001b[1;32m    218\u001b[0m         \u001b[39m# **integrator_keywords\u001b[39;49;00m\n\u001b[1;32m    219\u001b[0m     )\n\u001b[1;32m    220\u001b[0m \u001b[39mexcept\u001b[39;00m \u001b[39mException\u001b[39;00m \u001b[39mas\u001b[39;00m e:\n\u001b[1;32m    221\u001b[0m     \u001b[39mprint\u001b[39m(\u001b[39mf\u001b[39m\u001b[39m\"\u001b[39m\u001b[39mNumerical Solver unstable. Error: \u001b[39m\u001b[39m{\u001b[39;00me\u001b[39m}\u001b[39;00m\u001b[39m\"\u001b[39m)\n",
      "File \u001b[0;32m~/opt/anaconda3/envs/ARA-plume/lib/python3.11/site-packages/scipy/integrate/_ivp/ivp.py:602\u001b[0m, in \u001b[0;36msolve_ivp\u001b[0;34m(fun, t_span, y0, method, t_eval, dense_output, events, vectorized, args, **options)\u001b[0m\n\u001b[1;32m    600\u001b[0m status \u001b[39m=\u001b[39m \u001b[39mNone\u001b[39;00m\n\u001b[1;32m    601\u001b[0m \u001b[39mwhile\u001b[39;00m status \u001b[39mis\u001b[39;00m \u001b[39mNone\u001b[39;00m:\n\u001b[0;32m--> 602\u001b[0m     message \u001b[39m=\u001b[39m solver\u001b[39m.\u001b[39;49mstep()\n\u001b[1;32m    604\u001b[0m     \u001b[39mif\u001b[39;00m solver\u001b[39m.\u001b[39mstatus \u001b[39m==\u001b[39m \u001b[39m'\u001b[39m\u001b[39mfinished\u001b[39m\u001b[39m'\u001b[39m:\n\u001b[1;32m    605\u001b[0m         status \u001b[39m=\u001b[39m \u001b[39m0\u001b[39m\n",
      "File \u001b[0;32m~/opt/anaconda3/envs/ARA-plume/lib/python3.11/site-packages/scipy/integrate/_ivp/base.py:197\u001b[0m, in \u001b[0;36mOdeSolver.step\u001b[0;34m(self)\u001b[0m\n\u001b[1;32m    195\u001b[0m \u001b[39melse\u001b[39;00m:\n\u001b[1;32m    196\u001b[0m     t \u001b[39m=\u001b[39m \u001b[39mself\u001b[39m\u001b[39m.\u001b[39mt\n\u001b[0;32m--> 197\u001b[0m     success, message \u001b[39m=\u001b[39m \u001b[39mself\u001b[39;49m\u001b[39m.\u001b[39;49m_step_impl()\n\u001b[1;32m    199\u001b[0m     \u001b[39mif\u001b[39;00m \u001b[39mnot\u001b[39;00m success:\n\u001b[1;32m    200\u001b[0m         \u001b[39mself\u001b[39m\u001b[39m.\u001b[39mstatus \u001b[39m=\u001b[39m \u001b[39m'\u001b[39m\u001b[39mfailed\u001b[39m\u001b[39m'\u001b[39m\n",
      "File \u001b[0;32m~/opt/anaconda3/envs/ARA-plume/lib/python3.11/site-packages/scipy/integrate/_ivp/rk.py:144\u001b[0m, in \u001b[0;36mRungeKutta._step_impl\u001b[0;34m(self)\u001b[0m\n\u001b[1;32m    141\u001b[0m h \u001b[39m=\u001b[39m t_new \u001b[39m-\u001b[39m t\n\u001b[1;32m    142\u001b[0m h_abs \u001b[39m=\u001b[39m np\u001b[39m.\u001b[39mabs(h)\n\u001b[0;32m--> 144\u001b[0m y_new, f_new \u001b[39m=\u001b[39m rk_step(\u001b[39mself\u001b[39;49m\u001b[39m.\u001b[39;49mfun, t, y, \u001b[39mself\u001b[39;49m\u001b[39m.\u001b[39;49mf, h, \u001b[39mself\u001b[39;49m\u001b[39m.\u001b[39;49mA,\n\u001b[1;32m    145\u001b[0m                        \u001b[39mself\u001b[39;49m\u001b[39m.\u001b[39;49mB, \u001b[39mself\u001b[39;49m\u001b[39m.\u001b[39;49mC, \u001b[39mself\u001b[39;49m\u001b[39m.\u001b[39;49mK)\n\u001b[1;32m    146\u001b[0m scale \u001b[39m=\u001b[39m atol \u001b[39m+\u001b[39m np\u001b[39m.\u001b[39mmaximum(np\u001b[39m.\u001b[39mabs(y), np\u001b[39m.\u001b[39mabs(y_new)) \u001b[39m*\u001b[39m rtol\n\u001b[1;32m    147\u001b[0m error_norm \u001b[39m=\u001b[39m \u001b[39mself\u001b[39m\u001b[39m.\u001b[39m_estimate_error_norm(\u001b[39mself\u001b[39m\u001b[39m.\u001b[39mK, h, scale)\n",
      "File \u001b[0;32m~/opt/anaconda3/envs/ARA-plume/lib/python3.11/site-packages/scipy/integrate/_ivp/rk.py:64\u001b[0m, in \u001b[0;36mrk_step\u001b[0;34m(fun, t, y, f, h, A, B, C, K)\u001b[0m\n\u001b[1;32m     62\u001b[0m \u001b[39mfor\u001b[39;00m s, (a, c) \u001b[39min\u001b[39;00m \u001b[39menumerate\u001b[39m(\u001b[39mzip\u001b[39m(A[\u001b[39m1\u001b[39m:], C[\u001b[39m1\u001b[39m:]), start\u001b[39m=\u001b[39m\u001b[39m1\u001b[39m):\n\u001b[1;32m     63\u001b[0m     dy \u001b[39m=\u001b[39m np\u001b[39m.\u001b[39mdot(K[:s]\u001b[39m.\u001b[39mT, a[:s]) \u001b[39m*\u001b[39m h\n\u001b[0;32m---> 64\u001b[0m     K[s] \u001b[39m=\u001b[39m fun(t \u001b[39m+\u001b[39;49m c \u001b[39m*\u001b[39;49m h, y \u001b[39m+\u001b[39;49m dy)\n\u001b[1;32m     66\u001b[0m y_new \u001b[39m=\u001b[39m y \u001b[39m+\u001b[39m h \u001b[39m*\u001b[39m np\u001b[39m.\u001b[39mdot(K[:\u001b[39m-\u001b[39m\u001b[39m1\u001b[39m]\u001b[39m.\u001b[39mT, B)\n\u001b[1;32m     67\u001b[0m f_new \u001b[39m=\u001b[39m fun(t \u001b[39m+\u001b[39m h, y_new)\n",
      "File \u001b[0;32m~/opt/anaconda3/envs/ARA-plume/lib/python3.11/site-packages/scipy/integrate/_ivp/base.py:154\u001b[0m, in \u001b[0;36mOdeSolver.__init__.<locals>.fun\u001b[0;34m(t, y)\u001b[0m\n\u001b[1;32m    152\u001b[0m \u001b[39mdef\u001b[39;00m \u001b[39mfun\u001b[39m(t, y):\n\u001b[1;32m    153\u001b[0m     \u001b[39mself\u001b[39m\u001b[39m.\u001b[39mnfev \u001b[39m+\u001b[39m\u001b[39m=\u001b[39m \u001b[39m1\u001b[39m\n\u001b[0;32m--> 154\u001b[0m     \u001b[39mreturn\u001b[39;00m \u001b[39mself\u001b[39;49m\u001b[39m.\u001b[39;49mfun_single(t, y)\n",
      "File \u001b[0;32m~/opt/anaconda3/envs/ARA-plume/lib/python3.11/site-packages/scipy/integrate/_ivp/base.py:23\u001b[0m, in \u001b[0;36mcheck_arguments.<locals>.fun_wrapped\u001b[0;34m(t, y)\u001b[0m\n\u001b[1;32m     22\u001b[0m \u001b[39mdef\u001b[39;00m \u001b[39mfun_wrapped\u001b[39m(t, y):\n\u001b[0;32m---> 23\u001b[0m     \u001b[39mreturn\u001b[39;00m np\u001b[39m.\u001b[39masarray(fun(t, y), dtype\u001b[39m=\u001b[39mdtype)\n",
      "File \u001b[0;32m~/opt/anaconda3/envs/ARA-plume/lib/python3.11/site-packages/scipy/integrate/_ivp/ivp.py:540\u001b[0m, in \u001b[0;36msolve_ivp.<locals>.fun\u001b[0;34m(t, x, fun)\u001b[0m\n\u001b[1;32m    539\u001b[0m \u001b[39mdef\u001b[39;00m \u001b[39mfun\u001b[39m(t, x, fun\u001b[39m=\u001b[39mfun):\n\u001b[0;32m--> 540\u001b[0m     \u001b[39mreturn\u001b[39;00m fun(t, x, \u001b[39m*\u001b[39;49margs)\n",
      "File \u001b[0;32m~/Documents/UW/ARA/ARA-Plumes-Experiments/plumex/sindy_pipeline.py:189\u001b[0m, in \u001b[0;36mrun.<locals>.ode_sys\u001b[0;34m(t, y, a_dot, b_dot, c_dot, stabalizing_deg, eps)\u001b[0m\n\u001b[1;32m    187\u001b[0m a,b,c \u001b[39m=\u001b[39m y\n\u001b[1;32m    188\u001b[0m da \u001b[39m=\u001b[39m a_dot(a,b,c) \u001b[39m-\u001b[39m eps\u001b[39m*\u001b[39ma\u001b[39m*\u001b[39m\u001b[39m*\u001b[39mstabalizing_deg\n\u001b[0;32m--> 189\u001b[0m db \u001b[39m=\u001b[39m b_dot(a,b,c) \u001b[39m-\u001b[39m eps\u001b[39m*\u001b[39mb\u001b[39m*\u001b[39m\u001b[39m*\u001b[39mstabalizing_deg\n\u001b[1;32m    190\u001b[0m dc \u001b[39m=\u001b[39m c_dot(a,b,c) \u001b[39m-\u001b[39m eps\u001b[39m*\u001b[39mc\u001b[39m*\u001b[39m\u001b[39m*\u001b[39mstabalizing_deg\n\u001b[1;32m    191\u001b[0m rhs \u001b[39m=\u001b[39m [da,db,dc]\n",
      "File \u001b[0;32m~/Documents/UW/ARA/ARA-Plumes-Experiments/plumex/sindy_pipeline.py:169\u001b[0m, in \u001b[0;36mrun.<locals>.<lambda>\u001b[0;34m(a, b, c)\u001b[0m\n\u001b[1;32m    167\u001b[0m \u001b[39m# Define Right-hand side of ODE system \u001b[39;00m\n\u001b[1;32m    168\u001b[0m a_dot \u001b[39m=\u001b[39m \u001b[39mlambda\u001b[39;00m a,b,c: \u001b[39meval\u001b[39m(funcs[\u001b[39m0\u001b[39m])\n\u001b[0;32m--> 169\u001b[0m b_dot \u001b[39m=\u001b[39m \u001b[39mlambda\u001b[39;00m a,b,c: \u001b[39meval\u001b[39m(funcs[\u001b[39m1\u001b[39m])\n\u001b[1;32m    170\u001b[0m c_dot \u001b[39m=\u001b[39m \u001b[39mlambda\u001b[39;00m a,b,c: \u001b[39meval\u001b[39m(funcs[\u001b[39m2\u001b[39m])\n\u001b[1;32m    172\u001b[0m \u001b[39m# Get degree of feature library\u001b[39;00m\n",
      "File \u001b[0;32m<string>:0\u001b[0m\n",
      "\u001b[0;31mKeyboardInterrupt\u001b[0m: "
     ]
    }
   ],
   "source": [
    "sindy_pipeline.run(\n",
    "    time_series=time_series,\n",
    "    window_length=window_length,\n",
    "    ensem_thresh=ensem_thresh,\n",
    "    ensem_alpha=ensem_alpha,\n",
    "    ensem_max_iter=ensem_max_iter,\n",
    "    ensem_num_models=ensem_num_models,\n",
    "    ensem_time_points=ensem_time_points,\n",
    "    poly_degree=poly_degree,\n",
    "    seed=seed\n",
    ")"
   ]
  },
  {
   "cell_type": "code",
   "execution_count": null,
   "metadata": {},
   "outputs": [],
   "source": [
    "# %          dydt = [\n",
    "# %              -1.379*a - 2.139*b - (0.793)*c + 0.609*a^2 + 0.616*a*b - 0.543*b^2 - 0.814*b*c - 0.246*c^2-stab_eps*a^3;\n",
    "# %               1.334*a + 2.058*b + 0.763*c - 0.559*a^2 - 0.544*a*b + 0.533*b^2 + 0.765*b*c + 0.231*c^2-stab_eps*b^3;\n",
    "# %              -1.193*a - 1.827*b - 0.676*c + 0.023*a^2 - 0.473*a*b - 0.773*b^2 - 0.290*b*c-stab_eps*c^3;\n",
    "# %          ];\n",
    "\n",
    "# output before sindy got updated "
   ]
  },
  {
   "cell_type": "code",
   "execution_count": null,
   "metadata": {},
   "outputs": [],
   "source": []
  }
 ],
 "metadata": {
  "kernelspec": {
   "display_name": "ARA-plume",
   "language": "python",
   "name": "python3"
  },
  "language_info": {
   "codemirror_mode": {
    "name": "ipython",
    "version": 3
   },
   "file_extension": ".py",
   "mimetype": "text/x-python",
   "name": "python",
   "nbconvert_exporter": "python",
   "pygments_lexer": "ipython3",
   "version": "3.11.4"
  }
 },
 "nbformat": 4,
 "nbformat_minor": 2
}

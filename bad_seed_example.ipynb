{
 "cells": [
  {
   "cell_type": "code",
   "execution_count": 3,
   "metadata": {},
   "outputs": [],
   "source": [
    "import sindy_pipeline\n",
    "import pickle"
   ]
  },
  {
   "cell_type": "markdown",
   "metadata": {},
   "source": [
    "# Seed Summary\n",
    "Good seeds\n",
    "-12\n",
    "  - ensem_time_points = 100\n",
    "  - crashes with ensem_time_poitns = None\n",
    "\n",
    "Not Great seeds\n",
    "- 31415\n",
    "\n",
    "Seeds that Crash\n",
    "- 1234\n",
    "- 123\n",
    "- 12\n",
    "  - crashes when ensem_time_pints = None"
   ]
  },
  {
   "cell_type": "code",
   "execution_count": 4,
   "metadata": {},
   "outputs": [],
   "source": [
    "# Load data \n",
    "pickle_path = \"plume_videos/July_20/video_low_1/gauss_blur_coeff.pkl\"\n",
    "\n",
    "with open(pickle_path, 'rb') as f:\n",
    "    loaded_arrays = pickle.load(f)\n",
    "\n",
    "# Params\n",
    "time_series = loaded_arrays[\"mean\"]\n",
    "window_length = 4\n",
    "ensem_thresh = 0.12\n",
    "ensem_alpha=1e-3\n",
    "ensem_max_iter=100\n",
    "poly_degree=3\n",
    "ensem_num_models=40\n",
    "ensem_time_points = None # ensem_time_points = 100\n",
    "seed =1234"
   ]
  },
  {
   "cell_type": "code",
   "execution_count": 5,
   "metadata": {},
   "outputs": [
    {
     "name": "stdout",
     "output_type": "stream",
     "text": [
      "window_length: 4, thresh: 0.12, alpha: 0.001,  max iter: 100, stabalzing eps: 1e-05\n",
      "(a)' = -1.831 a + -2.802 b + -0.976 c + -0.020 a b + 0.845 a c + 1.180 b c + 0.318 c^2 + -23.239 a^3 + -108.397 a^2 b + -30.126 a^2 c + -168.686 a b^2 + -90.966 a b c + -8.469 a c^2 + -87.907 b^3 + -70.137 b^2 c + -13.375 b c^2\n",
      "(b)' = 1.847 a + 2.810 b + 0.970 c + 0.644 a^2 + 1.050 a b + -1.114 a c + -2.269 b c + -0.755 c^2 + -5.759 a^3 + -17.757 a^2 b + -8.347 a^2 c + -10.774 a b^2 + -12.998 a b c + -4.413 a c^2 + 5.094 b^3 + 3.643 b^2 c\n",
      "(c)' = -1.508 a + -2.349 b + -0.851 c + 0.681 a^2 + 1.098 a b + 0.430 a c + -0.177 b c + -0.182 c^2 + -18.777 a^3 + -56.554 a^2 b + 6.123 a^2 c + -42.490 a b^2 + 51.405 a b c + 25.425 a c^2 + 62.769 b^2 c + 46.795 b c^2 + 8.586 c^3\n",
      "Solving SINDy system with eps = 1e-05...\n",
      "Solving SINDy system...\n",
      " lsoda--  warning..internal t (=r1) and h (=r2) are\u0000\u0000\n",
      "       such that in the machine, t + h = t on the next step  \n",
      "       (h = step size). solver will continue anyway\u0000\u0000\n",
      "      in above,  r1 =  0.4830901226620D+02   r2 =  0.3272520039047D-14\n",
      " lsoda--  warning..internal t (=r1) and h (=r2) are\u0000\u0000\n",
      "       such that in the machine, t + h = t on the next step  \n",
      "       (h = step size). solver will continue anyway\u0000\u0000\n",
      "      in above,  r1 =  0.4830901226620D+02   r2 =  0.3272520039047D-14\n",
      " lsoda--  warning..internal t (=r1) and h (=r2) are\u0000\u0000\n",
      "       such that in the machine, t + h = t on the next step  \n",
      "       (h = step size). solver will continue anyway\u0000\u0000\n",
      "      in above,  r1 =  0.4830901226620D+02   r2 =  0.3272520039047D-14\n",
      " lsoda--  warning..internal t (=r1) and h (=r2) are\u0000\u0000\n",
      "       such that in the machine, t + h = t on the next step  \n",
      "       (h = step size). solver will continue anyway\u0000\u0000\n",
      "      in above,  r1 =  0.4830901226620D+02   r2 =  0.3272520039047D-14\n",
      " lsoda--  warning..internal t (=r1) and h (=r2) are\u0000\u0000\n",
      "       such that in the machine, t + h = t on the next step  \n",
      "       (h = step size). solver will continue anyway\u0000\u0000\n",
      "      in above,  r1 =  0.4830901226620D+02   r2 =  0.3272520039047D-14\n",
      " lsoda--  warning..internal t (=r1) and h (=r2) are\u0000\u0000\n",
      "       such that in the machine, t + h = t on the next step  \n",
      "       (h = step size). solver will continue anyway\u0000\u0000\n",
      "      in above,  r1 =  0.4830901226620D+02   r2 =  0.3272520039047D-14\n",
      " lsoda--  warning..internal t (=r1) and h (=r2) are\u0000\u0000\n",
      "       such that in the machine, t + h = t on the next step  \n",
      "       (h = step size). solver will continue anyway\u0000\u0000\n",
      "      in above,  r1 =  0.4830901226620D+02   r2 =  0.3272520039047D-14\n",
      " lsoda--  warning..internal t (=r1) and h (=r2) are\u0000\u0000\n",
      "       such that in the machine, t + h = t on the next step  \n",
      "       (h = step size). solver will continue anyway\u0000\u0000\n",
      "      in above,  r1 =  0.4830901226620D+02   r2 =  0.3272520039047D-14\n",
      " lsoda--  warning..internal t (=r1) and h (=r2) are\u0000\u0000\n",
      "       such that in the machine, t + h = t on the next step  \n",
      "       (h = step size). solver will continue anyway\u0000\u0000\n",
      "      in above,  r1 =  0.4830901226620D+02   r2 =  0.3272520039047D-14\n",
      " lsoda--  warning..internal t (=r1) and h (=r2) are\u0000\u0000\n",
      "       such that in the machine, t + h = t on the next step  \n",
      "       (h = step size). solver will continue anyway\u0000\u0000\n",
      "      in above,  r1 =  0.4830901226620D+02   r2 =  0.2673321585430D-14\n",
      " lsoda--  above warning has been issued i1 times.  \u0000\u0000\n",
      "       it will not be issued again for this problem\u0000\u0000\n",
      "      in above message,  i1 =        10\n"
     ]
    },
    {
     "name": "stderr",
     "output_type": "stream",
     "text": [
      "/Users/Malachite/opt/anaconda3/envs/ARA-plume/lib/python3.11/site-packages/sklearn/utils/extmath.py:193: RuntimeWarning: overflow encountered in matmul\n",
      "  ret = a @ b\n",
      "Traceback (most recent call last):\n",
      "  File \"/Users/Malachite/opt/anaconda3/envs/ARA-plume/lib/python3.11/site-packages/scipy/integrate/_ivp/base.py\", line 154, in fun\n",
      "capi_return is NULL\n",
      "Call-back cb_f_in_lsoda__user__routines failed.\n",
      "Fatal Python error: F2PySwapThreadLocalCallbackPtr: F2PySwapThreadLocalCallbackPtr: PyLong_AsVoidPtr failed\n",
      "Python runtime state: initialized\n",
      "    return self.fun_single(t, y)\n",
      "           ^^^^^^^^^^^^^^^^^^^^^\n",
      "  File \"/Users/Malachite/opt/anaconda3/envs/ARA-plume/lib/python3.11/site-packages/scipy/integrate/_ivp/base.py\", line 23, in fun_wrapped\n",
      "    return np.asarray(fun(t, y), dtype=dtype)\n",
      "                      ^^^^^^^^^\n",
      "  File \"/Users/Malachite/opt/anaconda3/envs/ARA-plume/lib/python3.11/site-packages/pysindy/pysindy.py\", line 860, in rhs\n",
      "    return self.predict(x[np.newaxis, :])[0]\n",
      "           ^^^^^^^^^^^^^^^^^^^^^^^^^^^^^^\n",
      "  File \"/Users/Malachite/opt/anaconda3/envs/ARA-plume/lib/python3.11/site-packages/pysindy/pysindy.py\", line 461, in predict\n",
      "    x, _, u = _comprehend_and_validate_inputs(x, 1, None, u, self.feature_library)\n",
      "              ^^^^^^^^^^^^^^^^^^^^^^^^^^^^^^^^^^^^^^^^^^^^^^^^^^^^^^^^^^^^^^^^^^^^\n",
      "  File \"/Users/Malachite/opt/anaconda3/envs/ARA-plume/lib/python3.11/site-packages/pysindy/pysindy.py\", line 956, in _comprehend_and_validate_inputs\n",
      "    x = [comprehend_and_validate(xi, ti) for xi, ti in _zip_like_sequence(x, t)]\n",
      "        ^^^^^^^^^^^^^^^^^^^^^^^^^^^^^^^^^^^^^^^^^^^^^^^^^^^^^^^^^^^^^^^^^^^^^^^^\n",
      "  File \"/Users/Malachite/opt/anaconda3/envs/ARA-plume/lib/python3.11/site-packages/pysindy/pysindy.py\", line 956, in <listcomp>\n",
      "    x = [comprehend_and_validate(xi, ti) for xi, ti in _zip_like_sequence(x, t)]\n",
      "         ^^^^^^^^^^^^^^^^^^^^^^^^^^^^^^^\n",
      "  File \"/Users/Malachite/opt/anaconda3/envs/ARA-plume/lib/python3.11/site-packages/pysindy/pysindy.py\", line 954, in comprehend_and_validate\n",
      "    return validate_no_reshape(arr, t)\n",
      "           ^^^^^^^^^^^^^^^^^^^^^^^^^^^\n",
      "  File \"/Users/Malachite/opt/anaconda3/envs/ARA-plume/lib/python3.11/site-packages/pysindy/utils/base.py\", line 72, in validate_no_reshape\n",
      "    check_array(x, ensure_2d=False, allow_nd=True)\n",
      "  File \"/Users/Malachite/opt/anaconda3/envs/ARA-plume/lib/python3.11/site-packages/sklearn/utils/validation.py\", line 959, in check_array\n",
      "    _assert_all_finite(\n",
      "  File \"/Users/Malachite/opt/anaconda3/envs/ARA-plume/lib/python3.11/site-packages/sklearn/utils/validation.py\", line 124, in _assert_all_finite\n",
      "    _assert_all_finite_element_wise(\n",
      "  File \"/Users/Malachite/opt/anaconda3/envs/ARA-plume/lib/python3.11/site-packages/sklearn/utils/validation.py\", line 173, in _assert_all_finite_element_wise\n",
      "    raise ValueError(msg_err)\n",
      "ValueError: Input contains infinity or a value too large for dtype('float64').\n",
      "\n",
      "Extension modules: zmq.backend.cython.context"
     ]
    },
    {
     "ename": "",
     "evalue": "",
     "output_type": "error",
     "traceback": [
      "\u001b[1;31mThe Kernel crashed while executing code in the the current cell or a previous cell. Please review the code in the cell(s) to identify a possible cause of the failure. Click <a href='https://aka.ms/vscodeJupyterKernelCrash'>here</a> for more info. View Jupyter <a href='command:jupyter.viewOutput'>log</a> for further details."
     ]
    }
   ],
   "source": [
    "sindy_pipeline.run(\n",
    "    time_series=time_series,\n",
    "    window_length=window_length,\n",
    "    ensem_thresh=ensem_thresh,\n",
    "    ensem_alpha=ensem_alpha,\n",
    "    ensem_max_iter=ensem_max_iter,\n",
    "    ensem_num_models=ensem_num_models,\n",
    "    ensem_time_points=ensem_time_points,\n",
    "    poly_degree=poly_degree,\n",
    "    seed=seed\n",
    ")"
   ]
  },
  {
   "cell_type": "code",
   "execution_count": null,
   "metadata": {},
   "outputs": [],
   "source": []
  }
 ],
 "metadata": {
  "kernelspec": {
   "display_name": "ARA-plume",
   "language": "python",
   "name": "python3"
  },
  "language_info": {
   "codemirror_mode": {
    "name": "ipython",
    "version": 3
   },
   "file_extension": ".py",
   "mimetype": "text/x-python",
   "name": "python",
   "nbconvert_exporter": "python",
   "pygments_lexer": "ipython3",
   "version": "3.11.4"
  }
 },
 "nbformat": 4,
 "nbformat_minor": 2
}
